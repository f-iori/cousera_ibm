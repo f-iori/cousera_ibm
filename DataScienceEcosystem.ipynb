# Data Science Tools and Ecosystem

## Introduction
In this notebook, Data Science Tools and Ecosystem are summarized.

# **Objectives:**
- List popular languages for Data Science
- List popular libraries for Data Science
- List toolsfor Data Science

### Data Science Languages

Some of the popular languages that Data Scientists use are:

1. Python
2. R
3. SQL
4. Scala
5. Java
6. C++
7. Julia
8. Javascript
9. Ruby
10. PHP
11. Go
12. Visual Basic

### Data Science Libraries

Some of the commonly used libraries used by Data Scientists include:

1. Pandas
2. NumPy
3. Matplotlib
4. Seaborn
5. Scikit-learn
6. SciPy
7. Keras
8. Pytorch
9. ggplot2
10. TensorFlow


## Data Science Tools

| Data Science Tools |
| -------------|
| Jupyter |
| RStudio |
| Watson Studio |

### Below are a few examples of evaluating arithmetic expressions in Python

#This a simple arithmetic expression to mutiply then add integers

(3*4)+5

#This will convert 200 minutes to hours by diving by 60

200//60

## Author

Iori Fuchigami
